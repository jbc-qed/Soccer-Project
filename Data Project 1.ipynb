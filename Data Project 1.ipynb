{
 "cells": [
  {
   "cell_type": "markdown",
   "id": "6dd469d7",
   "metadata": {},
   "source": [
    "# Data Project 1\n",
    "Jordan Carouth\n",
    "11/15/2021"
   ]
  },
  {
   "cell_type": "code",
   "execution_count": 1,
   "id": "5d6df95e",
   "metadata": {},
   "outputs": [],
   "source": [
    "import pandas as pd"
   ]
  },
  {
   "cell_type": "markdown",
   "id": "ce9ec429",
   "metadata": {},
   "source": [
    "### 1. Load the csv file and show top 5 records from it."
   ]
  },
  {
   "cell_type": "code",
   "execution_count": 2,
   "id": "94b31f15",
   "metadata": {},
   "outputs": [
    {
     "data": {
      "text/html": [
       "<div>\n",
       "<style scoped>\n",
       "    .dataframe tbody tr th:only-of-type {\n",
       "        vertical-align: middle;\n",
       "    }\n",
       "\n",
       "    .dataframe tbody tr th {\n",
       "        vertical-align: top;\n",
       "    }\n",
       "\n",
       "    .dataframe thead th {\n",
       "        text-align: right;\n",
       "    }\n",
       "</style>\n",
       "<table border=\"1\" class=\"dataframe\">\n",
       "  <thead>\n",
       "    <tr style=\"text-align: right;\">\n",
       "      <th></th>\n",
       "      <th>sofifa_id</th>\n",
       "      <th>player_url</th>\n",
       "      <th>short_name</th>\n",
       "      <th>long_name</th>\n",
       "      <th>age</th>\n",
       "      <th>dob</th>\n",
       "      <th>height_cm</th>\n",
       "      <th>weight_kg</th>\n",
       "      <th>nationality</th>\n",
       "      <th>club</th>\n",
       "      <th>...</th>\n",
       "      <th>lwb</th>\n",
       "      <th>ldm</th>\n",
       "      <th>cdm</th>\n",
       "      <th>rdm</th>\n",
       "      <th>rwb</th>\n",
       "      <th>lb</th>\n",
       "      <th>lcb</th>\n",
       "      <th>cb</th>\n",
       "      <th>rcb</th>\n",
       "      <th>rb</th>\n",
       "    </tr>\n",
       "  </thead>\n",
       "  <tbody>\n",
       "    <tr>\n",
       "      <th>0</th>\n",
       "      <td>158023</td>\n",
       "      <td>https://sofifa.com/player/158023/lionel-messi/...</td>\n",
       "      <td>L. Messi</td>\n",
       "      <td>Lionel Andrés Messi Cuccittini</td>\n",
       "      <td>32</td>\n",
       "      <td>1987-06-24</td>\n",
       "      <td>170</td>\n",
       "      <td>72</td>\n",
       "      <td>Argentina</td>\n",
       "      <td>FC Barcelona</td>\n",
       "      <td>...</td>\n",
       "      <td>68+2</td>\n",
       "      <td>66+2</td>\n",
       "      <td>66+2</td>\n",
       "      <td>66+2</td>\n",
       "      <td>68+2</td>\n",
       "      <td>63+2</td>\n",
       "      <td>52+2</td>\n",
       "      <td>52+2</td>\n",
       "      <td>52+2</td>\n",
       "      <td>63+2</td>\n",
       "    </tr>\n",
       "    <tr>\n",
       "      <th>1</th>\n",
       "      <td>20801</td>\n",
       "      <td>https://sofifa.com/player/20801/c-ronaldo-dos-...</td>\n",
       "      <td>Cristiano Ronaldo</td>\n",
       "      <td>Cristiano Ronaldo dos Santos Aveiro</td>\n",
       "      <td>34</td>\n",
       "      <td>1985-02-05</td>\n",
       "      <td>187</td>\n",
       "      <td>83</td>\n",
       "      <td>Portugal</td>\n",
       "      <td>Juventus</td>\n",
       "      <td>...</td>\n",
       "      <td>65+3</td>\n",
       "      <td>61+3</td>\n",
       "      <td>61+3</td>\n",
       "      <td>61+3</td>\n",
       "      <td>65+3</td>\n",
       "      <td>61+3</td>\n",
       "      <td>53+3</td>\n",
       "      <td>53+3</td>\n",
       "      <td>53+3</td>\n",
       "      <td>61+3</td>\n",
       "    </tr>\n",
       "    <tr>\n",
       "      <th>2</th>\n",
       "      <td>190871</td>\n",
       "      <td>https://sofifa.com/player/190871/neymar-da-sil...</td>\n",
       "      <td>Neymar Jr</td>\n",
       "      <td>Neymar da Silva Santos Junior</td>\n",
       "      <td>27</td>\n",
       "      <td>1992-02-05</td>\n",
       "      <td>175</td>\n",
       "      <td>68</td>\n",
       "      <td>Brazil</td>\n",
       "      <td>Paris Saint-Germain</td>\n",
       "      <td>...</td>\n",
       "      <td>66+3</td>\n",
       "      <td>61+3</td>\n",
       "      <td>61+3</td>\n",
       "      <td>61+3</td>\n",
       "      <td>66+3</td>\n",
       "      <td>61+3</td>\n",
       "      <td>46+3</td>\n",
       "      <td>46+3</td>\n",
       "      <td>46+3</td>\n",
       "      <td>61+3</td>\n",
       "    </tr>\n",
       "    <tr>\n",
       "      <th>3</th>\n",
       "      <td>200389</td>\n",
       "      <td>https://sofifa.com/player/200389/jan-oblak/20/...</td>\n",
       "      <td>J. Oblak</td>\n",
       "      <td>Jan Oblak</td>\n",
       "      <td>26</td>\n",
       "      <td>1993-01-07</td>\n",
       "      <td>188</td>\n",
       "      <td>87</td>\n",
       "      <td>Slovenia</td>\n",
       "      <td>Atlético Madrid</td>\n",
       "      <td>...</td>\n",
       "      <td>NaN</td>\n",
       "      <td>NaN</td>\n",
       "      <td>NaN</td>\n",
       "      <td>NaN</td>\n",
       "      <td>NaN</td>\n",
       "      <td>NaN</td>\n",
       "      <td>NaN</td>\n",
       "      <td>NaN</td>\n",
       "      <td>NaN</td>\n",
       "      <td>NaN</td>\n",
       "    </tr>\n",
       "    <tr>\n",
       "      <th>4</th>\n",
       "      <td>183277</td>\n",
       "      <td>https://sofifa.com/player/183277/eden-hazard/2...</td>\n",
       "      <td>E. Hazard</td>\n",
       "      <td>Eden Hazard</td>\n",
       "      <td>28</td>\n",
       "      <td>1991-01-07</td>\n",
       "      <td>175</td>\n",
       "      <td>74</td>\n",
       "      <td>Belgium</td>\n",
       "      <td>Real Madrid</td>\n",
       "      <td>...</td>\n",
       "      <td>66+3</td>\n",
       "      <td>63+3</td>\n",
       "      <td>63+3</td>\n",
       "      <td>63+3</td>\n",
       "      <td>66+3</td>\n",
       "      <td>61+3</td>\n",
       "      <td>49+3</td>\n",
       "      <td>49+3</td>\n",
       "      <td>49+3</td>\n",
       "      <td>61+3</td>\n",
       "    </tr>\n",
       "  </tbody>\n",
       "</table>\n",
       "<p>5 rows × 104 columns</p>\n",
       "</div>"
      ],
      "text/plain": [
       "   sofifa_id                                         player_url  \\\n",
       "0     158023  https://sofifa.com/player/158023/lionel-messi/...   \n",
       "1      20801  https://sofifa.com/player/20801/c-ronaldo-dos-...   \n",
       "2     190871  https://sofifa.com/player/190871/neymar-da-sil...   \n",
       "3     200389  https://sofifa.com/player/200389/jan-oblak/20/...   \n",
       "4     183277  https://sofifa.com/player/183277/eden-hazard/2...   \n",
       "\n",
       "          short_name                            long_name  age         dob  \\\n",
       "0           L. Messi       Lionel Andrés Messi Cuccittini   32  1987-06-24   \n",
       "1  Cristiano Ronaldo  Cristiano Ronaldo dos Santos Aveiro   34  1985-02-05   \n",
       "2          Neymar Jr        Neymar da Silva Santos Junior   27  1992-02-05   \n",
       "3           J. Oblak                            Jan Oblak   26  1993-01-07   \n",
       "4          E. Hazard                          Eden Hazard   28  1991-01-07   \n",
       "\n",
       "   height_cm  weight_kg nationality                 club  ...   lwb   ldm  \\\n",
       "0        170         72   Argentina         FC Barcelona  ...  68+2  66+2   \n",
       "1        187         83    Portugal             Juventus  ...  65+3  61+3   \n",
       "2        175         68      Brazil  Paris Saint-Germain  ...  66+3  61+3   \n",
       "3        188         87    Slovenia      Atlético Madrid  ...   NaN   NaN   \n",
       "4        175         74     Belgium          Real Madrid  ...  66+3  63+3   \n",
       "\n",
       "    cdm   rdm   rwb    lb   lcb    cb   rcb    rb  \n",
       "0  66+2  66+2  68+2  63+2  52+2  52+2  52+2  63+2  \n",
       "1  61+3  61+3  65+3  61+3  53+3  53+3  53+3  61+3  \n",
       "2  61+3  61+3  66+3  61+3  46+3  46+3  46+3  61+3  \n",
       "3   NaN   NaN   NaN   NaN   NaN   NaN   NaN   NaN  \n",
       "4  63+3  63+3  66+3  61+3  49+3  49+3  49+3  61+3  \n",
       "\n",
       "[5 rows x 104 columns]"
      ]
     },
     "execution_count": 2,
     "metadata": {},
     "output_type": "execute_result"
    }
   ],
   "source": [
    "csv_file = \"players_20.csv\"\n",
    "\n",
    "df = pd.read_csv(csv_file)\n",
    "df.head()"
   ]
  },
  {
   "cell_type": "markdown",
   "id": "7c6fe808",
   "metadata": {},
   "source": [
    "### 2. How you would be able to see each column's name."
   ]
  },
  {
   "cell_type": "code",
   "execution_count": 3,
   "id": "9e9c3541",
   "metadata": {},
   "outputs": [
    {
     "name": "stdout",
     "output_type": "stream",
     "text": [
      "sofifa_id --- player_url --- short_name --- long_name --- age --- dob --- height_cm --- weight_kg --- nationality --- club --- overall --- potential --- value_eur --- wage_eur --- player_positions --- preferred_foot --- international_reputation --- weak_foot --- skill_moves --- work_rate --- body_type --- real_face --- release_clause_eur --- player_tags --- team_position --- team_jersey_number --- loaned_from --- joined --- contract_valid_until --- nation_position --- nation_jersey_number --- pace --- shooting --- passing --- dribbling --- defending --- physic --- gk_diving --- gk_handling --- gk_kicking --- gk_reflexes --- gk_speed --- gk_positioning --- player_traits --- attacking_crossing --- attacking_finishing --- attacking_heading_accuracy --- attacking_short_passing --- attacking_volleys --- skill_dribbling --- skill_curve --- skill_fk_accuracy --- skill_long_passing --- skill_ball_control --- movement_acceleration --- movement_sprint_speed --- movement_agility --- movement_reactions --- movement_balance --- power_shot_power --- power_jumping --- power_stamina --- power_strength --- power_long_shots --- mentality_aggression --- mentality_interceptions --- mentality_positioning --- mentality_vision --- mentality_penalties --- mentality_composure --- defending_marking --- defending_standing_tackle --- defending_sliding_tackle --- goalkeeping_diving --- goalkeeping_handling --- goalkeeping_kicking --- goalkeeping_positioning --- goalkeeping_reflexes --- ls --- st --- rs --- lw --- lf --- cf --- rf --- rw --- lam --- cam --- ram --- lm --- lcm --- cm --- rcm --- rm --- lwb --- ldm --- cdm --- rdm --- rwb --- lb --- lcb --- cb --- rcb --- rb\n"
     ]
    }
   ],
   "source": [
    "for col in df.columns[:(len(df.columns)-1)]:\n",
    "    print(col, end=\" --- \")\n",
    "print(df.columns[-1])"
   ]
  },
  {
   "cell_type": "markdown",
   "id": "62035eac",
   "metadata": {},
   "source": [
    "### 3. Need to show number of rows and columns of this dataset."
   ]
  },
  {
   "cell_type": "code",
   "execution_count": 4,
   "id": "24f65ba5",
   "metadata": {},
   "outputs": [
    {
     "name": "stdout",
     "output_type": "stream",
     "text": [
      "Rows: 18278\n",
      "Columns: 104\n"
     ]
    }
   ],
   "source": [
    "print(\"Rows:\", len(df))\n",
    "print(\"Columns:\", len(df.columns))"
   ]
  },
  {
   "cell_type": "markdown",
   "id": "e2148278",
   "metadata": {},
   "source": [
    "### 4. Show number of players and their countries."
   ]
  },
  {
   "cell_type": "code",
   "execution_count": 5,
   "id": "bb779117",
   "metadata": {},
   "outputs": [
    {
     "data": {
      "text/plain": [
       "nationality\n",
       "Afghanistan                2\n",
       "Albania                   43\n",
       "Algeria                   50\n",
       "Angola                    16\n",
       "Antigua & Barbuda          7\n",
       "Argentina                886\n",
       "Armenia                    8\n",
       "Australia                196\n",
       "Austria                  319\n",
       "Azerbaijan                 6\n",
       "Bahrain                    1\n",
       "Barbados                   1\n",
       "Belgium                  268\n",
       "Belize                     1\n",
       "Benin                     15\n",
       "Bermuda                    3\n",
       "Bolivia                   23\n",
       "Bosnia Herzegovina        66\n",
       "Brazil                   824\n",
       "Bulgaria                  41\n",
       "Burkina Faso              16\n",
       "Burundi                    4\n",
       "Cameroon                  78\n",
       "Canada                    61\n",
       "Cape Verde                20\n",
       "Central African Rep.       4\n",
       "Chad                       1\n",
       "Chile                    370\n",
       "China PR                 373\n",
       "Chinese Taipei             1\n",
       "Colombia                 591\n",
       "Comoros                    9\n",
       "Congo                     18\n",
       "Costa Rica                30\n",
       "Croatia                  126\n",
       "Cuba                       4\n",
       "Curacao                   16\n",
       "Cyprus                    11\n",
       "Czech Republic           102\n",
       "DR Congo                  54\n",
       "Denmark                  345\n",
       "Dominican Republic         4\n",
       "Ecuador                   53\n",
       "Egypt                     30\n",
       "El Salvador                4\n",
       "England                 1667\n",
       "Equatorial Guinea          6\n",
       "Eritrea                    1\n",
       "Estonia                    6\n",
       "Ethiopia                   1\n",
       "FYR Macedonia             20\n",
       "Faroe Islands              5\n",
       "Finland                   72\n",
       "France                   984\n",
       "Gabon                     16\n",
       "Gambia                    22\n",
       "Georgia                   25\n",
       "Germany                 1216\n",
       "Ghana                    130\n",
       "Gibraltar                  1\n",
       "Greece                    96\n",
       "Grenada                    2\n",
       "Guam                       1\n",
       "Guatemala                  2\n",
       "Guinea                    35\n",
       "Guinea Bissau             21\n",
       "Guyana                     4\n",
       "Haiti                      7\n",
       "Honduras                  13\n",
       "Hong Kong                  1\n",
       "Hungary                   35\n",
       "Iceland                   46\n",
       "India                     23\n",
       "Indonesia                  1\n",
       "Iran                      15\n",
       "Iraq                       5\n",
       "Israel                    16\n",
       "Italy                    732\n",
       "Ivory Coast              105\n",
       "Jamaica                   29\n",
       "Japan                    453\n",
       "Jordan                     1\n",
       "Kazakhstan                 2\n",
       "Kenya                      7\n",
       "Korea DPR                  4\n",
       "Korea Republic           322\n",
       "Kosovo                    40\n",
       "Latvia                     6\n",
       "Lebanon                    3\n",
       "Liberia                    1\n",
       "Libya                      4\n",
       "Liechtenstein              2\n",
       "Lithuania                 10\n",
       "Luxembourg                 9\n",
       "Macau                      1\n",
       "Madagascar                 8\n",
       "Malawi                     1\n",
       "Mali                      55\n",
       "Malta                      2\n",
       "Mauritania                 5\n",
       "Mauritius                  1\n",
       "Mexico                   340\n",
       "Moldova                   12\n",
       "Montenegro                33\n",
       "Montserrat                 3\n",
       "Morocco                   94\n",
       "Mozambique                 4\n",
       "Namibia                    2\n",
       "Netherlands              416\n",
       "New Caledonia              2\n",
       "New Zealand               35\n",
       "Niger                      3\n",
       "Nigeria                  126\n",
       "Northern Ireland          81\n",
       "Norway                   350\n",
       "Palestine                  4\n",
       "Panama                    12\n",
       "Paraguay                  80\n",
       "Peru                      35\n",
       "Philippines                2\n",
       "Poland                   324\n",
       "Portugal                 344\n",
       "Puerto Rico                1\n",
       "Republic of Ireland      348\n",
       "Romania                  287\n",
       "Russia                    81\n",
       "Rwanda                     2\n",
       "Saudi Arabia             310\n",
       "Scotland                 277\n",
       "Senegal                  127\n",
       "Serbia                   139\n",
       "Sierra Leone              10\n",
       "Slovakia                  54\n",
       "Slovenia                  61\n",
       "South Africa              72\n",
       "South Sudan                1\n",
       "Spain                   1035\n",
       "St Kitts Nevis             4\n",
       "St Lucia                   1\n",
       "Sudan                      3\n",
       "Suriname                   2\n",
       "Sweden                   358\n",
       "Switzerland              229\n",
       "Syria                      4\n",
       "São Tomé & Príncipe        1\n",
       "Tanzania                   4\n",
       "Thailand                   4\n",
       "Togo                      13\n",
       "Trinidad & Tobago          6\n",
       "Tunisia                   35\n",
       "Turkey                   294\n",
       "Uganda                     3\n",
       "Ukraine                   69\n",
       "United Arab Emirates      22\n",
       "United States            347\n",
       "Uruguay                  164\n",
       "Uzbekistan                 3\n",
       "Venezuela                 66\n",
       "Vietnam                    1\n",
       "Wales                    117\n",
       "Zambia                    10\n",
       "Zimbabwe                  12\n",
       "dtype: int64"
      ]
     },
     "execution_count": 5,
     "metadata": {},
     "output_type": "execute_result"
    }
   ],
   "source": [
    "pd.set_option(\"display.max_rows\", None)\n",
    "players_nat = df.groupby([\"nationality\"]).size()\n",
    "players_nat"
   ]
  },
  {
   "cell_type": "markdown",
   "id": "70e9aff0",
   "metadata": {},
   "source": [
    "### 5. If you find many records in point 4, show only top 10 countries and their number of players."
   ]
  },
  {
   "cell_type": "code",
   "execution_count": 6,
   "id": "4e18cc5c",
   "metadata": {},
   "outputs": [
    {
     "data": {
      "text/plain": [
       "nationality\n",
       "England        1667\n",
       "Germany        1216\n",
       "Spain          1035\n",
       "France          984\n",
       "Argentina       886\n",
       "Brazil          824\n",
       "Italy           732\n",
       "Colombia        591\n",
       "Japan           453\n",
       "Netherlands     416\n",
       "dtype: int64"
      ]
     },
     "execution_count": 6,
     "metadata": {},
     "output_type": "execute_result"
    }
   ],
   "source": [
    "players_nat.sort_values(ascending=False).head(10)"
   ]
  },
  {
   "cell_type": "markdown",
   "id": "8151f82b",
   "metadata": {},
   "source": [
    "### 6. Now you have to create a bar plot of top 5 countries and their number of players; try to fill green color in bars."
   ]
  },
  {
   "cell_type": "code",
   "execution_count": 7,
   "id": "8b54b123",
   "metadata": {},
   "outputs": [
    {
     "data": {
      "image/png": "[encoded data removed]",
      "text/plain": [
       "<Figure size 750x500 with 1 Axes>"
      ]
     },
     "metadata": {
      "needs_background": "light"
     },
     "output_type": "display_data"
    }
   ],
   "source": [
    "import matplotlib.pyplot as plt\n",
    "plt.rcParams['figure.dpi'] = 125\n",
    "\n",
    "biggest_5 = players_nat.sort_values(ascending=False).head()\n",
    "\n",
    "plt.bar(biggest_5.index, biggest_5, color=\"#37BC61\")\n",
    "plt.title('Top 5 Most Players Per Countries', fontsize=18)\n",
    "plt.xlabel('Country', fontsize=14)\n",
    "plt.ylabel('Players', fontsize=14)\n",
    "plt.show()"
   ]
  },
  {
   "cell_type": "markdown",
   "id": "84c38950",
   "metadata": {},
   "source": [
    "### 7. Show top 5 players short name and wages."
   ]
  },
  {
   "cell_type": "code",
   "execution_count": 8,
   "id": "33f53c7b",
   "metadata": {},
   "outputs": [
    {
     "data": {
      "text/html": [
       "<div>\n",
       "<style scoped>\n",
       "    .dataframe tbody tr th:only-of-type {\n",
       "        vertical-align: middle;\n",
       "    }\n",
       "\n",
       "    .dataframe tbody tr th {\n",
       "        vertical-align: top;\n",
       "    }\n",
       "\n",
       "    .dataframe thead th {\n",
       "        text-align: right;\n",
       "    }\n",
       "</style>\n",
       "<table border=\"1\" class=\"dataframe\">\n",
       "  <thead>\n",
       "    <tr style=\"text-align: right;\">\n",
       "      <th></th>\n",
       "      <th>short_name</th>\n",
       "      <th>wage_eur</th>\n",
       "      <th>overall</th>\n",
       "    </tr>\n",
       "  </thead>\n",
       "  <tbody>\n",
       "    <tr>\n",
       "      <th>0</th>\n",
       "      <td>L. Messi</td>\n",
       "      <td>565000</td>\n",
       "      <td>94</td>\n",
       "    </tr>\n",
       "    <tr>\n",
       "      <th>1</th>\n",
       "      <td>Cristiano Ronaldo</td>\n",
       "      <td>405000</td>\n",
       "      <td>93</td>\n",
       "    </tr>\n",
       "    <tr>\n",
       "      <th>2</th>\n",
       "      <td>Neymar Jr</td>\n",
       "      <td>290000</td>\n",
       "      <td>92</td>\n",
       "    </tr>\n",
       "    <tr>\n",
       "      <th>3</th>\n",
       "      <td>J. Oblak</td>\n",
       "      <td>125000</td>\n",
       "      <td>91</td>\n",
       "    </tr>\n",
       "    <tr>\n",
       "      <th>4</th>\n",
       "      <td>E. Hazard</td>\n",
       "      <td>470000</td>\n",
       "      <td>91</td>\n",
       "    </tr>\n",
       "  </tbody>\n",
       "</table>\n",
       "</div>"
      ],
      "text/plain": [
       "          short_name  wage_eur  overall\n",
       "0           L. Messi    565000       94\n",
       "1  Cristiano Ronaldo    405000       93\n",
       "2          Neymar Jr    290000       92\n",
       "3           J. Oblak    125000       91\n",
       "4          E. Hazard    470000       91"
      ]
     },
     "execution_count": 8,
     "metadata": {},
     "output_type": "execute_result"
    }
   ],
   "source": [
    "tmp = df.sort_values(by=[\"overall\"], ascending=False)\n",
    "tmp[[\"short_name\", \"wage_eur\", \"overall\"]].head()"
   ]
  },
  {
   "cell_type": "markdown",
   "id": "8787fd58",
   "metadata": {},
   "source": [
    "### 8. Show top 5 players short name and wages that are getting highest salaries."
   ]
  },
  {
   "cell_type": "code",
   "execution_count": 9,
   "id": "7740e69c",
   "metadata": {},
   "outputs": [
    {
     "data": {
      "text/html": [
       "<div>\n",
       "<style scoped>\n",
       "    .dataframe tbody tr th:only-of-type {\n",
       "        vertical-align: middle;\n",
       "    }\n",
       "\n",
       "    .dataframe tbody tr th {\n",
       "        vertical-align: top;\n",
       "    }\n",
       "\n",
       "    .dataframe thead th {\n",
       "        text-align: right;\n",
       "    }\n",
       "</style>\n",
       "<table border=\"1\" class=\"dataframe\">\n",
       "  <thead>\n",
       "    <tr style=\"text-align: right;\">\n",
       "      <th></th>\n",
       "      <th>short_name</th>\n",
       "      <th>wage_eur</th>\n",
       "      <th>overall</th>\n",
       "    </tr>\n",
       "  </thead>\n",
       "  <tbody>\n",
       "    <tr>\n",
       "      <th>0</th>\n",
       "      <td>L. Messi</td>\n",
       "      <td>565000</td>\n",
       "      <td>94</td>\n",
       "    </tr>\n",
       "    <tr>\n",
       "      <th>4</th>\n",
       "      <td>E. Hazard</td>\n",
       "      <td>470000</td>\n",
       "      <td>91</td>\n",
       "    </tr>\n",
       "    <tr>\n",
       "      <th>1</th>\n",
       "      <td>Cristiano Ronaldo</td>\n",
       "      <td>405000</td>\n",
       "      <td>93</td>\n",
       "    </tr>\n",
       "    <tr>\n",
       "      <th>5</th>\n",
       "      <td>K. De Bruyne</td>\n",
       "      <td>370000</td>\n",
       "      <td>91</td>\n",
       "    </tr>\n",
       "    <tr>\n",
       "      <th>22</th>\n",
       "      <td>A. Griezmann</td>\n",
       "      <td>370000</td>\n",
       "      <td>89</td>\n",
       "    </tr>\n",
       "  </tbody>\n",
       "</table>\n",
       "</div>"
      ],
      "text/plain": [
       "           short_name  wage_eur  overall\n",
       "0            L. Messi    565000       94\n",
       "4           E. Hazard    470000       91\n",
       "1   Cristiano Ronaldo    405000       93\n",
       "5        K. De Bruyne    370000       91\n",
       "22       A. Griezmann    370000       89"
      ]
     },
     "execution_count": 9,
     "metadata": {},
     "output_type": "execute_result"
    }
   ],
   "source": [
    "tmp = df.sort_values(by=[\"wage_eur\"], ascending=False)\n",
    "tmp[[\"short_name\", \"wage_eur\", \"overall\"]].head()"
   ]
  },
  {
   "cell_type": "markdown",
   "id": "dc208762",
   "metadata": {},
   "source": [
    "### 9. Create a bar plot of point number 8."
   ]
  },
  {
   "cell_type": "code",
   "execution_count": 10,
   "id": "2563224a",
   "metadata": {},
   "outputs": [
    {
     "data": {
      "image/png": "[encoded data removed]",
      "text/plain": [
       "<Figure size 750x500 with 1 Axes>"
      ]
     },
     "metadata": {
      "needs_background": "light"
     },
     "output_type": "display_data"
    }
   ],
   "source": [
    "highest_paid = tmp.head()\n",
    "\n",
    "plt.barh(highest_paid[\"short_name\"], highest_paid[\"wage_eur\"], color=\"#00B2EE\")\n",
    "plt.title('Top 5 Best Paid Players', fontsize=18)\n",
    "plt.xlabel('Amount (in Euros)', fontsize=14)\n",
    "plt.ylabel('Player', fontsize=14)\n",
    "plt.show()"
   ]
  },
  {
   "cell_type": "code",
   "execution_count": null,
   "id": "9f20396c",
   "metadata": {},
   "outputs": [],
   "source": []
  },
  {
   "cell_type": "code",
   "execution_count": null,
   "id": "47d20fb1",
   "metadata": {},
   "outputs": [],
   "source": []
  }
 ],
 "metadata": {
  "kernelspec": {
   "display_name": "Python 3",
   "language": "python",
   "name": "python3"
  },
  "language_info": {
   "codemirror_mode": {
    "name": "ipython",
    "version": 3
   },
   "file_extension": ".py",
   "mimetype": "text/x-python",
   "name": "python",
   "nbconvert_exporter": "python",
   "pygments_lexer": "ipython3",
   "version": "3.8.8"
  }
 },
 "nbformat": 4,
 "nbformat_minor": 5
}
